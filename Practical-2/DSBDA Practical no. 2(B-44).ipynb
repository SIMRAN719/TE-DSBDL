{
 "cells": [
  {
   "cell_type": "markdown",
   "id": "b41843f9",
   "metadata": {},
   "source": [
    "## Practical - 02"
   ]
  },
  {
   "cell_type": "markdown",
   "id": "db59fffd",
   "metadata": {},
   "source": [
    "**Data Wrangling II**\n",
    " \n",
    "Create an “Academic performance” dataset of students and perform the following operations using \n",
    "Python. \n",
    " \n",
    "1. Scan all variables for missing values and inconsistencies. If there are missing values and/or \n",
    "inconsistencies, use any of the suitable techniques to deal with them.   \n",
    "2. Scan all numeric variables for outliers. If there are outliers, use any of the suitable \n",
    "techniques to deal with them.  \n",
    "3. Apply data transformations on at least one of the variables. The purpose of this \n",
    "transformation should be one of the following reasons: to change the scale for better \n",
    "understanding of the variable, to convert a non-linear relation into a linear one, or to \n",
    "decrease the skewness and convert the distribution into a normal distribution.  \n",
    " \n",
    "Reason and document your approach properly. "
   ]
  },
  {
   "cell_type": "code",
   "execution_count": null,
   "id": "ae46d82f",
   "metadata": {},
   "outputs": [],
   "source": [
    "import pandas as pd\n",
    "import numpy as np\n",
    "import matplotlib.pyplot as plt"
   ]
  },
  {
   "cell_type": "code",
   "execution_count": 221,
   "id": "509135c6",
   "metadata": {},
   "outputs": [
    {
     "data": {
      "text/plain": [
       "'c:\\\\Users\\\\hasna\\\\Desktop\\\\Simran\\\\TE\\\\TE-SEM-2\\\\Practicals\\\\DSBDL\\\\Practical-2'"
      ]
     },
     "execution_count": 221,
     "metadata": {},
     "output_type": "execute_result"
    }
   ],
   "source": [
    "pwd"
   ]
  },
  {
   "cell_type": "code",
   "execution_count": null,
   "id": "9fc45226",
   "metadata": {},
   "outputs": [],
   "source": [
    "df=pd.read_csv(r\"C:\\Users\\hasna\\Desktop\\Simran\\TE\\TE-SEM-2\\Practicals\\DSBDL\\Datasets\\StudentPerformance.csv\")\n",
    "print(df)"
   ]
  },
  {
   "cell_type": "code",
   "execution_count": null,
   "id": "150e1c41",
   "metadata": {},
   "outputs": [],
   "source": [
    "df.head(10)"
   ]
  },
  {
   "cell_type": "code",
   "execution_count": null,
   "id": "365f372f",
   "metadata": {},
   "outputs": [],
   "source": [
    "df.tail(10)"
   ]
  },
  {
   "cell_type": "code",
   "execution_count": null,
   "id": "a70c2a4f",
   "metadata": {},
   "outputs": [],
   "source": [
    "df.isnull()"
   ]
  },
  {
   "cell_type": "code",
   "execution_count": null,
   "id": "39d85f80",
   "metadata": {},
   "outputs": [],
   "source": [
    "df.isnull().sum()"
   ]
  },
  {
   "cell_type": "code",
   "execution_count": null,
   "id": "6759f03a",
   "metadata": {},
   "outputs": [],
   "source": [
    "df.notnull()"
   ]
  },
  {
   "cell_type": "code",
   "execution_count": null,
   "id": "8abbaeab",
   "metadata": {},
   "outputs": [],
   "source": [
    "mean_value=df['Reading_Score'].mean() #calculate the mean of windspeed column\n",
    "print(mean_value)"
   ]
  },
  {
   "cell_type": "code",
   "execution_count": null,
   "id": "7fe98c26",
   "metadata": {},
   "outputs": [],
   "source": [
    "df['Reading_Score']=df['Reading_Score'].fillna(mean_value) #replace NaN value with mean value\n",
    "print(df)"
   ]
  },
  {
   "cell_type": "code",
   "execution_count": null,
   "id": "881d0a76",
   "metadata": {},
   "outputs": [],
   "source": [
    "mean_value=df['Writing_Score'].mean() #calculate the mean of windspeed column\n",
    "print(mean_value)"
   ]
  },
  {
   "cell_type": "code",
   "execution_count": null,
   "id": "d489c273",
   "metadata": {},
   "outputs": [],
   "source": [
    "df['Writing_Score']=df['Writing_Score'].fillna(mean_value) #replace NaN value with mean value\n",
    "print(df)"
   ]
  },
  {
   "cell_type": "code",
   "execution_count": null,
   "id": "4d0ca7cc",
   "metadata": {},
   "outputs": [],
   "source": [
    "mean_value=df['Placement_Score'].mean() #calculate the mean of windspeed column\n",
    "print(mean_value)"
   ]
  },
  {
   "cell_type": "code",
   "execution_count": null,
   "id": "be0b1135",
   "metadata": {},
   "outputs": [],
   "source": [
    "df['Placement_Score']=df['Placement_Score'].fillna(mean_value) #replace NaN value with mean value\n",
    "print(df)"
   ]
  },
  {
   "cell_type": "code",
   "execution_count": null,
   "id": "394bc2c5",
   "metadata": {},
   "outputs": [],
   "source": [
    "mean_value=df['Club_Join_Date'].mean() #calculate the mean of windspeed column\n",
    "print(mean_value)"
   ]
  },
  {
   "cell_type": "code",
   "execution_count": null,
   "id": "5a47bdf3",
   "metadata": {},
   "outputs": [],
   "source": [
    "df['Club_Join_Date']=df['Club_Join_Date'].fillna(mean_value) #replace NaN value with mean value\n",
    "print(df)"
   ]
  },
  {
   "cell_type": "code",
   "execution_count": null,
   "id": "70b6b445",
   "metadata": {},
   "outputs": [],
   "source": [
    "new_df=df\n",
    "col=['Maths_Score']\n",
    "new_df.boxplot(col)\n",
    "plt.show()"
   ]
  },
  {
   "cell_type": "code",
   "execution_count": null,
   "id": "c5510146",
   "metadata": {},
   "outputs": [],
   "source": [
    "new_df=df\n",
    "col=['Maths_Score', 'Reading_Score', 'Writing_Score', 'Placement_Score','Placement offer count']\n",
    "# new_df.boxplot(col)\n",
    "plt.figure(figsize=(10,5))\n",
    "new_df.boxplot(col)\n",
    "plt.show()"
   ]
  },
  {
   "cell_type": "code",
   "execution_count": null,
   "id": "02e2246f",
   "metadata": {},
   "outputs": [],
   "source": [
    "fig,ax=plt.subplots(figsize=(10,5))\n",
    "ax.scatter(df['Placement_Score'],df['Placement offer count'])\n",
    "plt.show()"
   ]
  }
 ],
 "metadata": {
  "kernelspec": {
   "display_name": "Python 3 (ipykernel)",
   "language": "python",
   "name": "python3"
  },
  "language_info": {
   "codemirror_mode": {
    "name": "ipython",
    "version": 3
   },
   "file_extension": ".py",
   "mimetype": "text/x-python",
   "name": "python",
   "nbconvert_exporter": "python",
   "pygments_lexer": "ipython3",
   "version": "3.12.1"
  }
 },
 "nbformat": 4,
 "nbformat_minor": 5
}
